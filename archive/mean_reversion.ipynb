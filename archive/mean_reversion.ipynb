{
 "cells": [
  {
   "cell_type": "code",
   "execution_count": 20,
   "metadata": {},
   "outputs": [],
   "source": [
    "import pandas as pd\n",
    "import numpy as np\n",
    "import yfinance as yf\n",
    "import statsmodels.api as sm\n",
    "import matplotlib.pyplot as plt"
   ]
  },
  {
   "cell_type": "markdown",
   "metadata": {},
   "source": [
    "# Global Variables"
   ]
  },
  {
   "cell_type": "markdown",
   "metadata": {},
   "source": [
    "* https://www.marketwatch.com/tools/top-25-etfs\n",
    "* https://elib.suub.uni-bremen.de/publications/dissertations/E-Diss549_diss02.pdf"
   ]
  },
  {
   "cell_type": "code",
   "execution_count": 3,
   "metadata": {},
   "outputs": [],
   "source": [
    "ETF = [\n",
    "    'VOO',\n",
    "    'QQQ',\n",
    "    'SPY',\n",
    "    'IVV',\n",
    "    'IWD',\n",
    "]"
   ]
  },
  {
   "cell_type": "markdown",
   "metadata": {},
   "source": [
    "# Pull Data"
   ]
  },
  {
   "cell_type": "code",
   "execution_count": 33,
   "metadata": {},
   "outputs": [],
   "source": [
    "df_stock = yf.Ticker(\"TSLA\")\\\n",
    "    .history(period='3y')\\\n",
    "    .reset_index()"
   ]
  },
  {
   "cell_type": "code",
   "execution_count": 34,
   "metadata": {},
   "outputs": [
    {
     "data": {
      "text/html": [
       "<div>\n",
       "<style scoped>\n",
       "    .dataframe tbody tr th:only-of-type {\n",
       "        vertical-align: middle;\n",
       "    }\n",
       "\n",
       "    .dataframe tbody tr th {\n",
       "        vertical-align: top;\n",
       "    }\n",
       "\n",
       "    .dataframe thead th {\n",
       "        text-align: right;\n",
       "    }\n",
       "</style>\n",
       "<table border=\"1\" class=\"dataframe\">\n",
       "  <thead>\n",
       "    <tr style=\"text-align: right;\">\n",
       "      <th></th>\n",
       "      <th>Date</th>\n",
       "      <th>Open</th>\n",
       "      <th>High</th>\n",
       "      <th>Low</th>\n",
       "      <th>Close</th>\n",
       "      <th>Volume</th>\n",
       "      <th>Dividends</th>\n",
       "      <th>Stock Splits</th>\n",
       "    </tr>\n",
       "  </thead>\n",
       "  <tbody>\n",
       "    <tr>\n",
       "      <th>0</th>\n",
       "      <td>2020-09-16</td>\n",
       "      <td>146.623337</td>\n",
       "      <td>152.596664</td>\n",
       "      <td>145.103333</td>\n",
       "      <td>147.253326</td>\n",
       "      <td>216837900</td>\n",
       "      <td>0</td>\n",
       "      <td>0.0</td>\n",
       "    </tr>\n",
       "    <tr>\n",
       "      <th>1</th>\n",
       "      <td>2020-09-17</td>\n",
       "      <td>138.533340</td>\n",
       "      <td>145.929993</td>\n",
       "      <td>136.000000</td>\n",
       "      <td>141.143326</td>\n",
       "      <td>230337600</td>\n",
       "      <td>0</td>\n",
       "      <td>0.0</td>\n",
       "    </tr>\n",
       "    <tr>\n",
       "      <th>2</th>\n",
       "      <td>2020-09-18</td>\n",
       "      <td>149.313339</td>\n",
       "      <td>150.333328</td>\n",
       "      <td>142.933334</td>\n",
       "      <td>147.383331</td>\n",
       "      <td>259220400</td>\n",
       "      <td>0</td>\n",
       "      <td>0.0</td>\n",
       "    </tr>\n",
       "    <tr>\n",
       "      <th>3</th>\n",
       "      <td>2020-09-21</td>\n",
       "      <td>151.043335</td>\n",
       "      <td>151.893326</td>\n",
       "      <td>135.690002</td>\n",
       "      <td>149.796661</td>\n",
       "      <td>328430400</td>\n",
       "      <td>0</td>\n",
       "      <td>0.0</td>\n",
       "    </tr>\n",
       "    <tr>\n",
       "      <th>4</th>\n",
       "      <td>2020-09-22</td>\n",
       "      <td>143.199997</td>\n",
       "      <td>145.919998</td>\n",
       "      <td>139.199997</td>\n",
       "      <td>141.410004</td>\n",
       "      <td>238742400</td>\n",
       "      <td>0</td>\n",
       "      <td>0.0</td>\n",
       "    </tr>\n",
       "    <tr>\n",
       "      <th>...</th>\n",
       "      <td>...</td>\n",
       "      <td>...</td>\n",
       "      <td>...</td>\n",
       "      <td>...</td>\n",
       "      <td>...</td>\n",
       "      <td>...</td>\n",
       "      <td>...</td>\n",
       "      <td>...</td>\n",
       "    </tr>\n",
       "    <tr>\n",
       "      <th>750</th>\n",
       "      <td>2023-09-11</td>\n",
       "      <td>264.269989</td>\n",
       "      <td>274.850006</td>\n",
       "      <td>260.609985</td>\n",
       "      <td>273.579987</td>\n",
       "      <td>174667900</td>\n",
       "      <td>0</td>\n",
       "      <td>0.0</td>\n",
       "    </tr>\n",
       "    <tr>\n",
       "      <th>751</th>\n",
       "      <td>2023-09-12</td>\n",
       "      <td>270.760010</td>\n",
       "      <td>278.390015</td>\n",
       "      <td>266.600006</td>\n",
       "      <td>267.480011</td>\n",
       "      <td>135999900</td>\n",
       "      <td>0</td>\n",
       "      <td>0.0</td>\n",
       "    </tr>\n",
       "    <tr>\n",
       "      <th>752</th>\n",
       "      <td>2023-09-13</td>\n",
       "      <td>270.070007</td>\n",
       "      <td>274.980011</td>\n",
       "      <td>268.100006</td>\n",
       "      <td>271.299988</td>\n",
       "      <td>111673700</td>\n",
       "      <td>0</td>\n",
       "      <td>0.0</td>\n",
       "    </tr>\n",
       "    <tr>\n",
       "      <th>753</th>\n",
       "      <td>2023-09-14</td>\n",
       "      <td>271.320007</td>\n",
       "      <td>276.709991</td>\n",
       "      <td>270.420013</td>\n",
       "      <td>276.040009</td>\n",
       "      <td>107709800</td>\n",
       "      <td>0</td>\n",
       "      <td>0.0</td>\n",
       "    </tr>\n",
       "    <tr>\n",
       "      <th>754</th>\n",
       "      <td>2023-09-15</td>\n",
       "      <td>277.549988</td>\n",
       "      <td>278.980011</td>\n",
       "      <td>271.000000</td>\n",
       "      <td>274.390015</td>\n",
       "      <td>133422800</td>\n",
       "      <td>0</td>\n",
       "      <td>0.0</td>\n",
       "    </tr>\n",
       "  </tbody>\n",
       "</table>\n",
       "<p>755 rows × 8 columns</p>\n",
       "</div>"
      ],
      "text/plain": [
       "          Date        Open        High         Low       Close     Volume  \\\n",
       "0   2020-09-16  146.623337  152.596664  145.103333  147.253326  216837900   \n",
       "1   2020-09-17  138.533340  145.929993  136.000000  141.143326  230337600   \n",
       "2   2020-09-18  149.313339  150.333328  142.933334  147.383331  259220400   \n",
       "3   2020-09-21  151.043335  151.893326  135.690002  149.796661  328430400   \n",
       "4   2020-09-22  143.199997  145.919998  139.199997  141.410004  238742400   \n",
       "..         ...         ...         ...         ...         ...        ...   \n",
       "750 2023-09-11  264.269989  274.850006  260.609985  273.579987  174667900   \n",
       "751 2023-09-12  270.760010  278.390015  266.600006  267.480011  135999900   \n",
       "752 2023-09-13  270.070007  274.980011  268.100006  271.299988  111673700   \n",
       "753 2023-09-14  271.320007  276.709991  270.420013  276.040009  107709800   \n",
       "754 2023-09-15  277.549988  278.980011  271.000000  274.390015  133422800   \n",
       "\n",
       "     Dividends  Stock Splits  \n",
       "0            0           0.0  \n",
       "1            0           0.0  \n",
       "2            0           0.0  \n",
       "3            0           0.0  \n",
       "4            0           0.0  \n",
       "..         ...           ...  \n",
       "750          0           0.0  \n",
       "751          0           0.0  \n",
       "752          0           0.0  \n",
       "753          0           0.0  \n",
       "754          0           0.0  \n",
       "\n",
       "[755 rows x 8 columns]"
      ]
     },
     "execution_count": 34,
     "metadata": {},
     "output_type": "execute_result"
    }
   ],
   "source": [
    "df_stock"
   ]
  },
  {
   "cell_type": "markdown",
   "metadata": {},
   "source": [
    "# Augmented Dickney-Fuller Test"
   ]
  },
  {
   "cell_type": "markdown",
   "metadata": {},
   "source": [
    "If the adf t statistic is \"more negative\" than the critical value, we reject the null and accept the alternate hypothesis\n",
    "* H0: rho = 1 - nonstationary\n",
    "* H1: rho < 1 - stationary"
   ]
  },
  {
   "cell_type": "code",
   "execution_count": 35,
   "metadata": {},
   "outputs": [],
   "source": [
    "adf_result = sm.tsa.stattools.adfuller(df_stock['Close'], 1)\n",
    "t = adf_result[0]\n",
    "p = adf_result[1]"
   ]
  },
  {
   "cell_type": "code",
   "execution_count": 36,
   "metadata": {},
   "outputs": [
    {
     "data": {
      "text/plain": [
       "(-2.338525949877143,\n",
       " 0.15984338246285384,\n",
       " 0,\n",
       " 754,\n",
       " {'1%': -3.439052522969989,\n",
       "  '5%': -2.8653808299915013,\n",
       "  '10%': -2.5688152592363274},\n",
       " 5505.483470528699)"
      ]
     },
     "execution_count": 36,
     "metadata": {},
     "output_type": "execute_result"
    }
   ],
   "source": [
    "adf_result"
   ]
  },
  {
   "cell_type": "code",
   "execution_count": 37,
   "metadata": {},
   "outputs": [
    {
     "data": {
      "text/plain": [
       "[<matplotlib.lines.Line2D at 0x14f0cbfd0>]"
      ]
     },
     "execution_count": 37,
     "metadata": {},
     "output_type": "execute_result"
    },
    {
     "data": {
      "image/png": "[encoded data removed]",
      "text/plain": [
       "<Figure size 432x288 with 1 Axes>"
      ]
     },
     "metadata": {
      "needs_background": "light"
     },
     "output_type": "display_data"
    }
   ],
   "source": [
    "plt.plot(df_stock['Date'], df_stock['Close'])"
   ]
  },
  {
   "cell_type": "code",
   "execution_count": 30,
   "metadata": {},
   "outputs": [
    {
     "name": "stdout",
     "output_type": "stream",
     "text": [
      "Non-Stationary\n"
     ]
    }
   ],
   "source": [
    "if p >= 0.05:\n",
    "    print('Non-Stationary')\n",
    "else:\n",
    "    print('Stationary')"
   ]
  },
  {
   "cell_type": "code",
   "execution_count": null,
   "metadata": {},
   "outputs": [],
   "source": [
    "# "
   ]
  }
 ],
 "metadata": {
  "kernelspec": {
   "display_name": "base",
   "language": "python",
   "name": "python3"
  },
  "language_info": {
   "codemirror_mode": {
    "name": "ipython",
    "version": 3
   },
   "file_extension": ".py",
   "mimetype": "text/x-python",
   "name": "python",
   "nbconvert_exporter": "python",
   "pygments_lexer": "ipython3",
   "version": "3.9.13"
  },
  "orig_nbformat": 4
 },
 "nbformat": 4,
 "nbformat_minor": 2
}
